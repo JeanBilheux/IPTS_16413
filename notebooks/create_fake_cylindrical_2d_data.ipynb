{
 "cells": [
  {
   "cell_type": "markdown",
   "metadata": {},
   "source": [
    "# Instructions "
   ]
  },
  {
   "cell_type": "markdown",
   "metadata": {},
   "source": [
    "This notebook will allow to create fits/tiff images of fake cylindrical samples with user defined intensity"
   ]
  },
  {
   "cell_type": "markdown",
   "metadata": {},
   "source": [
    "# Python Import"
   ]
  },
  {
   "cell_type": "code",
   "execution_count": null,
   "metadata": {
    "collapsed": false
   },
   "outputs": [],
   "source": [
    "from plotly.offline import plot, init_notebook_mode, iplot\n",
    "init_notebook_mode()\n",
    "import plotly.plotly as py\n",
    "import plotly.graph_objs as go\n",
    "from plotly import tools\n",
    "\n",
    "import numpy as np\n",
    "\n",
    "from IPython.display import Image\n",
    "from IPython.core.display import HTML\n",
    "\n",
    "import matplotlib.pyplot as plt\n",
    "%matplotlib inline\n",
    "\n",
    "import file_handler"
   ]
  },
  {
   "cell_type": "markdown",
   "metadata": {},
   "source": [
    "# Create Homogeneous 2D Data "
   ]
  },
  {
   "cell_type": "code",
   "execution_count": 2,
   "metadata": {
    "collapsed": false,
    "scrolled": false
   },
   "outputs": [
    {
     "data": {
      "text/html": [
       "<img src=\"images/homogeneous_cylinder_2d_image.png\" width=\"750\" height=\"750\" class=\"unconfined\"/>"
      ],
      "text/plain": [
       "<IPython.core.display.Image object>"
      ]
     },
     "execution_count": 2,
     "metadata": {},
     "output_type": "execute_result"
    }
   ],
   "source": [
    "Image(url=\"images/homogeneous_cylinder_2d_image.png\", width=750, height=750, unconfined=True)"
   ]
  },
  {
   "cell_type": "markdown",
   "metadata": {},
   "source": [
    "## Define Data Characteristics "
   ]
  },
  {
   "cell_type": "code",
   "execution_count": null,
   "metadata": {
    "collapsed": false
   },
   "outputs": [],
   "source": [
    "#image size\n",
    "width, height = 512, 512\n",
    "\n",
    "pixel_intensity = 2\n",
    "radius = 200\n",
    "pixel_center = 256\n",
    "\n",
    "# reset\n",
    "if 'circle_matrix' in globals() or 'circle_matrix' in vars():\n",
    "    del circle_matrix\n",
    "    del circle_matrix_bool\n",
    "    del homogeneous_image\n",
    "    cirlce_matrix = None\n",
    "    circle_matrix_bool = None\n",
    "    homogeneous_image = None"
   ]
  },
  {
   "cell_type": "markdown",
   "metadata": {},
   "source": [
    "## Create 1D Data "
   ]
  },
  {
   "cell_type": "code",
   "execution_count": null,
   "metadata": {
    "collapsed": true
   },
   "outputs": [],
   "source": [
    "def is_point_inside_circle(x,y):\n",
    "    _r = x*x + y*y\n",
    "    if np.sqrt(_r) <= radius:\n",
    "        return True\n",
    "    return False\n",
    "\n",
    "x_range = np.arange(-radius, radius+1)\n",
    "y_range = np.arange(-radius, radius+1)"
   ]
  },
  {
   "cell_type": "code",
   "execution_count": null,
   "metadata": {
    "collapsed": false
   },
   "outputs": [],
   "source": [
    "circle_matrix_bool = np.empty([height, width], dtype=np.bool)\n",
    "circle_matrix_bool[:] = False\n",
    "border = pixel_center - radius\n",
    "for x in x_range:\n",
    "    for y in y_range:\n",
    "        _result = is_point_inside_circle(x, y)\n",
    "        circle_matrix_bool[pixel_center+x, pixel_center+y] = _result\n",
    "        \n",
    "circle_matrix = np.zeros([height, width])\n",
    "circle_matrix[:] = 0\n",
    "circle_matrix[circle_matrix_bool] = pixel_intensity\n",
    "\n",
    "fig =  plt.figure(figsize=(10,10))\n",
    "ax_img = plt.subplot(111)\n",
    "ax_img.imshow(circle_matrix)"
   ]
  },
  {
   "cell_type": "code",
   "execution_count": null,
   "metadata": {
    "collapsed": true
   },
   "outputs": [],
   "source": [
    "projected_image = np.sum(circle_matrix, axis=0)"
   ]
  },
  {
   "cell_type": "markdown",
   "metadata": {},
   "source": [
    "## Create 2D Data "
   ]
  },
  {
   "cell_type": "code",
   "execution_count": null,
   "metadata": {
    "collapsed": false
   },
   "outputs": [],
   "source": [
    "homogeneous_image = np.zeros([height, width], dtype=np.float)\n",
    "\n",
    "for h in np.arange(height):\n",
    "    homogeneous_image[h, :] = projected_image\n",
    "    \n",
    "fig1 =  plt.figure(figsize=(10,10))\n",
    "ax_img = plt.subplot(111)\n",
    "ax_img.imshow(homogeneous_image)"
   ]
  },
  {
   "cell_type": "markdown",
   "metadata": {},
   "source": [
    "## Export Image (FITS and TIFF) "
   ]
  },
  {
   "cell_type": "markdown",
   "metadata": {},
   "source": [
    "### FITS"
   ]
  },
  {
   "cell_type": "code",
   "execution_count": null,
   "metadata": {
    "collapsed": false
   },
   "outputs": [],
   "source": [
    "output_file_name = 'data/homogeneous_image.fits'\n",
    "file_handler.make_fits(filename=output_file_name, data=homogeneous_image)"
   ]
  },
  {
   "cell_type": "markdown",
   "metadata": {},
   "source": [
    "### TIFF"
   ]
  },
  {
   "cell_type": "code",
   "execution_count": null,
   "metadata": {
    "collapsed": false
   },
   "outputs": [],
   "source": [
    "output_file_name = 'data/homogeneous_image.tif'\n",
    "file_handler.make_tiff(filename=output_file_name, data=homogeneous_image)"
   ]
  },
  {
   "cell_type": "markdown",
   "metadata": {},
   "source": [
    "# Create Inhomogeneous 2D Data "
   ]
  },
  {
   "cell_type": "code",
   "execution_count": null,
   "metadata": {
    "collapsed": false,
    "scrolled": true
   },
   "outputs": [],
   "source": [
    "Image(url=\"images/inhomogeneous_cylinder_2d_image.png\", width=750, height=750, unconfined=True)"
   ]
  },
  {
   "cell_type": "markdown",
   "metadata": {},
   "source": [
    "## Define Data Characteristics "
   ]
  },
  {
   "cell_type": "code",
   "execution_count": null,
   "metadata": {
    "collapsed": false
   },
   "outputs": [],
   "source": [
    "#image size\n",
    "width, height = 512, 512\n",
    "\n",
    "pixel_intensity = 2\n",
    "inner_radius = 150\n",
    "outer_radius = 200\n",
    "pixel_center = 256\n",
    "\n",
    "# reset\n",
    "if 'circle_matrix' in globals() or 'circle_matrix' in vars():\n",
    "    del circle_matrix\n",
    "    del circle_matrix_bool\n",
    "    del inhomogeneous_image\n",
    "    cirlce_matrix = None\n",
    "    circle_matrix_bool = None\n",
    "    inhomogeneous_image = None"
   ]
  },
  {
   "cell_type": "markdown",
   "metadata": {},
   "source": [
    "## Create 1D Data "
   ]
  },
  {
   "cell_type": "code",
   "execution_count": null,
   "metadata": {
    "collapsed": true
   },
   "outputs": [],
   "source": [
    "def is_point_inside_circle(x,y,r):\n",
    "    _r = x*x + y*y\n",
    "    if np.sqrt(_r) <= r:\n",
    "        return True\n",
    "    return False\n",
    "\n",
    "def is_point_outside_circle(x,y,r):\n",
    "    _r = x*x + y*y\n",
    "    if np.sqrt(_r) > r:\n",
    "        return True\n",
    "    return False\n",
    "\n",
    "x_range = np.arange(-outer_radius, outer_radius+1)\n",
    "y_range = np.arange(-outer_radius, outer_radius+1)"
   ]
  },
  {
   "cell_type": "code",
   "execution_count": null,
   "metadata": {
    "collapsed": false
   },
   "outputs": [],
   "source": [
    "circle_matrix_bool = np.empty([height, width], dtype=np.bool)\n",
    "circle_matrix_bool[:] = False\n",
    "border = pixel_center - outer_radius\n",
    "for x in x_range:\n",
    "    for y in y_range:\n",
    "        _result = is_point_inside_circle(x, y, outer_radius)\n",
    "        if _result:\n",
    "            _result = is_point_outside_circle(x, y, inner_radius)\n",
    "        circle_matrix_bool[pixel_center+x, pixel_center+y] = _result\n",
    "        \n",
    "circle_matrix = np.zeros([height, width])\n",
    "circle_matrix[:] = 0\n",
    "circle_matrix[circle_matrix_bool] = pixel_intensity\n",
    "\n",
    "fig =  plt.figure(figsize=(10,10))\n",
    "ax_img = plt.subplot(111)\n",
    "ax_img.imshow(circle_matrix)"
   ]
  },
  {
   "cell_type": "code",
   "execution_count": null,
   "metadata": {
    "collapsed": true
   },
   "outputs": [],
   "source": [
    "inhomogeneous_projected_image = np.sum(circle_matrix, axis=0)"
   ]
  },
  {
   "cell_type": "markdown",
   "metadata": {},
   "source": [
    "## Create 2D Data "
   ]
  },
  {
   "cell_type": "code",
   "execution_count": null,
   "metadata": {
    "collapsed": false
   },
   "outputs": [],
   "source": [
    "inhomogeneous_image = np.zeros([height, width], dtype=np.float)\n",
    "\n",
    "for h in np.arange(height):\n",
    "    inhomogeneous_image[h, :] = inhomogeneous_projected_image\n",
    "    \n",
    "fig1 =  plt.figure(figsize=(10,10))\n",
    "ax_img = plt.subplot(111)\n",
    "ax_img.imshow(inhomogeneous_image)"
   ]
  },
  {
   "cell_type": "markdown",
   "metadata": {},
   "source": [
    "## Export Image (FITS and TIFF) "
   ]
  },
  {
   "cell_type": "markdown",
   "metadata": {},
   "source": [
    "### FITS"
   ]
  },
  {
   "cell_type": "code",
   "execution_count": null,
   "metadata": {
    "collapsed": false
   },
   "outputs": [],
   "source": [
    "output_file_name = 'data/inhomogeneous_image.fits'\n",
    "file_handler.make_fits(filename=output_file_name, data=inhomogeneous_image)"
   ]
  },
  {
   "cell_type": "markdown",
   "metadata": {},
   "source": [
    "### TIFF"
   ]
  },
  {
   "cell_type": "code",
   "execution_count": null,
   "metadata": {
    "collapsed": false
   },
   "outputs": [],
   "source": [
    "output_file_name = 'data/inhomogeneous_image.tif'\n",
    "file_handler.make_tiff(filename=output_file_name, data=inhomogeneous_image)"
   ]
  }
 ],
 "metadata": {
  "kernelspec": {
   "display_name": "Python [conda env:py35]",
   "language": "python",
   "name": "conda-env-py35-py"
  },
  "language_info": {
   "codemirror_mode": {
    "name": "ipython",
    "version": 3
   },
   "file_extension": ".py",
   "mimetype": "text/x-python",
   "name": "python",
   "nbconvert_exporter": "python",
   "pygments_lexer": "ipython3",
   "version": "3.5.2"
  }
 },
 "nbformat": 4,
 "nbformat_minor": 0
}
