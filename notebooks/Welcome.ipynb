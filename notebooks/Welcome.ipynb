{
 "cells": [
  {
   "cell_type": "markdown",
   "metadata": {},
   "source": [
    "# Description"
   ]
  },
  {
   "cell_type": "markdown",
   "metadata": {},
   "source": [
    "This notebook will guide you through the reduction and analysis you want to perform and will send you directly to the right notebooks"
   ]
  },
  {
   "cell_type": "markdown",
   "metadata": {},
   "source": [
    "# Step by Step Guide "
   ]
  },
  {
   "cell_type": "markdown",
   "metadata": {},
   "source": [
    "1. Do you need to combine some of the images together (to improve statistics)?\n",
    "[YES - step1_combine_images](step1_combine_images.ipynb)\n",
    "2. How do you want to normalize the data?\n",
    "    - do you want to use Open Beams (OBs) and Dark Fields (DFs)? [YES - step2_normalize_data_ob](step2_normalize_data_ob.ipynb)\n",
    "    - do you want to divide by first image? [YES - step2_normalize_data_by_first_image](step2_normalize_data_by_first_image.ipynb)\n",
    "3. [Plot profiles](step3_profile.ipynb)"
   ]
  },
  {
   "cell_type": "code",
   "execution_count": null,
   "metadata": {
    "collapsed": true
   },
   "outputs": [],
   "source": []
  }
 ],
 "metadata": {
  "anaconda-cloud": {},
  "kernelspec": {
   "display_name": "Python [conda env:py35]",
   "language": "python",
   "name": "conda-env-py35-py"
  },
  "language_info": {
   "codemirror_mode": {
    "name": "ipython",
    "version": 3
   },
   "file_extension": ".py",
   "mimetype": "text/x-python",
   "name": "python",
   "nbconvert_exporter": "python",
   "pygments_lexer": "ipython3",
   "version": "3.5.2"
  }
 },
 "nbformat": 4,
 "nbformat_minor": 0
}
