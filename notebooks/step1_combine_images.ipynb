{
 "cells": [
  {
   "cell_type": "markdown",
   "metadata": {},
   "source": [
    "# Table of Contents\n",
    "* [Description](#Description)\n",
    "* [Import Python](#Import-Python)\n",
    "* [Select Output Folder](#Select-Output-Folder)\n",
    "* [Select Data to Combine and Combine Them](#Select-Data-to-Combine-and-Combine-Them)\n"
   ]
  },
  {
   "cell_type": "markdown",
   "metadata": {
    "collapsed": true
   },
   "source": [
    "# Description"
   ]
  },
  {
   "cell_type": "markdown",
   "metadata": {},
   "source": [
    "Select the images to combine (mean) and then select output folder"
   ]
  },
  {
   "cell_type": "markdown",
   "metadata": {},
   "source": [
    "# Import Python "
   ]
  },
  {
   "cell_type": "code",
   "execution_count": 1,
   "metadata": {
    "collapsed": false
   },
   "outputs": [],
   "source": [
    "import os\n",
    "\n",
    "import config_handler\n",
    "import gui_widgets\n",
    "import file_handler\n",
    "\n",
    "config_handler.init_config()"
   ]
  },
  {
   "cell_type": "code",
   "execution_count": 2,
   "metadata": {
    "collapsed": true
   },
   "outputs": [],
   "source": [
    "%gui qt"
   ]
  },
  {
   "cell_type": "markdown",
   "metadata": {},
   "source": [
    "# Select Output Folder"
   ]
  },
  {
   "cell_type": "code",
   "execution_count": 4,
   "metadata": {
    "collapsed": true
   },
   "outputs": [],
   "source": [
    "root_folder = config_handler.load_config(key = 'root_folder', \\\n",
    "                                         default_value = '/Volumes/Buffalo/IPTS/IPTS-16413/raw/radiographs/')\n",
    "output_folder = config_handler.load_config(key='output_folder',\n",
    "                                          default_value = root_folder)\n",
    "output_folder = gui_widgets.gui_dname(dir=output_folder, message='Select Output Folder ....')\n",
    "if output_folder:\n",
    "    config_handler.save_config(key='output_folder', value=output_folder)"
   ]
  },
  {
   "cell_type": "markdown",
   "metadata": {},
   "source": [
    "# Select Data to Combine and Combine Them"
   ]
  },
  {
   "cell_type": "code",
   "execution_count": 3,
   "metadata": {
    "collapsed": false
   },
   "outputs": [],
   "source": [
    "list_tiff_files = gui_widgets.gui_fname(dir=root_folder, message='Select TIFF Files to Combine ...', ext='tiff')\n",
    "if list_tiff_files:\n",
    "    root_folder =os.path.dirname(list_tiff_files[0])\n",
    "    config_handler.save_config(key='root_folder', value=root_folder)\n",
    "\n",
    "# load images\n",
    "imported_data = file_handler.read_tiff(list_tiff_files)\n",
    "\n",
    "# combine (mean) and make output file name\n",
    "output_file_name = ''\n",
    "if len(np.shape(imported_data)) == 3:\n",
    "    mean_data = np.mean(imported_data, axis=0)\n",
    "    output_file_name = file_handler.create_combine_mean_basename(input_file = list_tiff_files[0])\n",
    "else:\n",
    "    mean_data = imported_data\n",
    "    output_file_name = os.path.basename(list_tiff_files)\n",
    "\n",
    "full_output_file_name = os.path.join(output_folder, output_file_name)\n",
    "    \n",
    "# export images\n",
    "file_handler.write_tiff(filename=full_output_file_name, data=mean_data)"
   ]
  },
  {
   "cell_type": "code",
   "execution_count": null,
   "metadata": {
    "collapsed": true
   },
   "outputs": [],
   "source": []
  }
 ],
 "metadata": {
  "anaconda-cloud": {},
  "kernelspec": {
   "display_name": "Python [conda env:py35]",
   "language": "python",
   "name": "conda-env-py35-py"
  },
  "language_info": {
   "codemirror_mode": {
    "name": "ipython",
    "version": 3
   },
   "file_extension": ".py",
   "mimetype": "text/x-python",
   "name": "python",
   "nbconvert_exporter": "python",
   "pygments_lexer": "ipython3",
   "version": "3.5.2"
  }
 },
 "nbformat": 4,
 "nbformat_minor": 0
}
